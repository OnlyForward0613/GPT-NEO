{
  "nbformat": 4,
  "nbformat_minor": 0,
  "metadata": {
    "colab": {
      "name": "GPTNEO_TFMESH.ipynb",
      "provenance": [],
      "private_outputs": true,
      "collapsed_sections": []
    },
    "kernelspec": {
      "name": "python3",
      "display_name": "Python 3"
    },
    "accelerator": "TPU"
  },
  "cells": [
    {
      "cell_type": "code",
      "metadata": {
        "id": "K-53qkZV6Lv9",
        "colab_type": "code",
        "cellView": "form",
        "colab": {}
      },
      "source": [
        "#@title Setup\n",
        "%tensorflow_version 1.x\n",
        "un = 'githubuser' #@param {type:\"string\"}\n",
        "pw = 'githubpassword' #@param {type:\"string\"}\n",
        "branch = \"tfmesh\"\n",
        "url = \"https://\" + un + \":\" + pw + \"@github.com/ConnorJL/GPTNeo\"\n",
        "!git clone -b $branch $url\n",
        "!pip3 install tensorflow==1.15.2 regex google-api-python-client oauth2client requests tqdm ftfy newspaper3k\n",
        "%cd GPTNeo\n"
      ],
      "execution_count": null,
      "outputs": []
    },
    {
      "cell_type": "code",
      "metadata": {
        "id": "uf4ROFrz-p0b",
        "colab_type": "code",
        "colab": {}
      },
      "source": [
        "from google.colab import auth\n",
        "auth.authenticate_user()"
      ],
      "execution_count": null,
      "outputs": []
    },
    {
      "cell_type": "markdown",
      "metadata": {
        "id": "R918l14UhrBR",
        "colab_type": "text"
      },
      "source": [
        "You'll need to edit all the bucket paths (gs://...) below to point to your own cloud bucket.\n",
        "\n",
        "The below just downloads a small sample dataset - this will not result in a good model.\n"
      ]
    },
    {
      "cell_type": "code",
      "metadata": {
        "id": "CVoAUclk-ukG",
        "colab_type": "code",
        "colab": {}
      },
      "source": [
        "# get dataset\n",
        "download = False\n",
        "if download:\n",
        "  !wget -P datasets/ https://storage.googleapis.com/connors-datasets/bundestag/bundestag_0.tfrecords\n",
        "  !gsutil cp /content/GPTNeo/datasets/bundestag_0.tfrecords $data_path\n",
        "!gsutil ls gs://datasets_storage_1/datasets/bundestag"
      ],
      "execution_count": null,
      "outputs": []
    },
    {
      "cell_type": "markdown",
      "metadata": {
        "id": "NhvmTFD7b_fb",
        "colab_type": "text"
      },
      "source": [
        "Before running the final cell - you'll need to edit the config below to provide paths to your own bucket / data"
      ]
    },
    {
      "cell_type": "code",
      "metadata": {
        "id": "L9hUDdokiWj6",
        "colab_type": "code",
        "colab": {}
      },
      "source": [
        "%%writefile configs/colab.json\n",
        "\n",
        "{\n",
        "    \"n_head\": 8, \n",
        "    \"encoder_path\": \"gs://datasets_storage_1/models/encoder\",\n",
        "    \"n_vocab\": 50257,\n",
        "    \"embed_dropout\": 0.1,\n",
        "    \"lr\": 0.00025,\n",
        "    \"warmup_steps\": 0,\n",
        "    \"beta1\": 0.9,\n",
        "    \"beta2\": 0.98,\n",
        "    \"epsilon\": 1e-9,\n",
        "    \"opt_name\": \"adam\",\n",
        "    \"weight_decay\": 0.01,\n",
        "    \"train_batch_size\": 32,\n",
        "    \"attn_dropout\": 0.1,\n",
        "    \"train_steps\": 10000,\n",
        "    \"eval_steps\": 0,\n",
        "    \"max_steps\": 500000,\n",
        "    \"data_path\": \"gs://datasets_storage_1/datasets/bundestag\",\n",
        "    \"res_dropout\": 0.1,\n",
        "    \"predict_batch_size\": 1,\n",
        "    \"eval_batch_size\": 32,\n",
        "    \"iterations\": 500,\n",
        "    \"n_embd\": 768,\n",
        "    \"datasets\": [[\"bundestag_*.tfrecords\", \"\", 10, \"random_sample\", 1.0]],\n",
        "    \"model\": \"GPT2\",\n",
        "    \"model_path\": \"gs://datasets_storage_1/models/GPTNeo_prettybig\",\n",
        "    \"n_ctx\": 128,\n",
        "    \"predict_path\": \"logs/predictions.txt\",\n",
        "    \"n_layer\": 12,\n",
        "    \"scale_by_depth\": true,\n",
        "    \"scale_by_in\": true,\n",
        "    \"fixed_attn_block_size\": 128,\n",
        "    \"layer_offset\": 16,\n",
        "    \"local\": true,\n",
        "    \"mesh_shape\": \"all:8\",\n",
        "    \"layout\": \"heads:all\",\n",
        "    \"precision\": \"float32\"\n",
        "}\n"
      ],
      "execution_count": null,
      "outputs": []
    },
    {
      "cell_type": "code",
      "metadata": {
        "id": "VUtrysOSBzjJ",
        "colab_type": "code",
        "colab": {}
      },
      "source": [
        "# this deletes all the old ckpts - you'll need to enter your own bucket path\n",
        "!gsutil rm -r gs://datasets_storage_1/models/GPTNeo_prettybig/ \n",
        "# a real model will need steps_per_ckpt to be much larger - this speeds up testing\n",
        "!python3 gpt2_mesh.py --model_params configs/GPT_NEO_TEST.json --steps_per_checkpoint 20 #"
      ],
      "execution_count": null,
      "outputs": []
    }
  ]
}