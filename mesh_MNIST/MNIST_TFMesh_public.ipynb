{
  "nbformat": 4,
  "nbformat_minor": 0,
  "metadata": {
    "colab": {
      "name": "MNIST_TFMesh_public.ipynb",
      "provenance": [],
      "private_outputs": true,
      "collapsed_sections": []
    },
    "kernelspec": {
      "name": "python3",
      "display_name": "Python 3"
    },
    "accelerator": "TPU"
  },
  "cells": [
    {
      "cell_type": "code",
      "metadata": {
        "id": "OPmANTtfDUCX",
        "colab_type": "code",
        "cellView": "both",
        "colab": {}
      },
      "source": [
        "#@title Setup\n",
        "%tensorflow_version 1.x\n",
        "un = 'githubuser' #@param {type:\"string\"}\n",
        "pw = 'githubpw' #@param {type:\"string\"}\n",
        "branch = \"tfmesh\"\n",
        "url = \"https://\" + un + \":\" + pw + \"@github.com/ConnorJL/GPTNeo\"\n",
        "!git clone -b $branch $url\n",
        "!pip3 install tensorflow==1.15.2 regex google-api-python-client oauth2client requests tqdm ftfy newspaper3k\n",
        "%cd GPTNeo/mesh_MNIST\n"
      ],
      "execution_count": null,
      "outputs": []
    },
    {
      "cell_type": "code",
      "metadata": {
        "id": "76PnJ8rAEp8f",
        "colab_type": "code",
        "colab": {}
      },
      "source": [
        "from google.colab import auth\n",
        "auth.authenticate_user()"
      ],
      "execution_count": null,
      "outputs": []
    },
    {
      "cell_type": "code",
      "metadata": {
        "id": "PWBw1Q-lEQO4",
        "colab_type": "code",
        "colab": {}
      },
      "source": [
        "mesh = \"d1:4,d2:2\" # set mesh shape to 8 cores\n",
        "layout_rules = \"hidden1:d1,hidden2:d2\" # distributes hidden layers across 8 cores\n",
        "# replace \n",
        "!python3 mnist.py --data_dir=gs://datasets_storage_1/datasets/MNIST --model_dir=gs://datasets_storage_1/model_runs/mnist --mesh_shape=$mesh --layout=$layout_rules"
      ],
      "execution_count": null,
      "outputs": []
    },
    {
      "cell_type": "code",
      "metadata": {
        "id": "r9-LfZl6Y6xh",
        "colab_type": "code",
        "colab": {}
      },
      "source": [
        "!gsutil rm -r gs://datasets_storage_1/model_runs/mnist"
      ],
      "execution_count": null,
      "outputs": []
    }
  ]
}